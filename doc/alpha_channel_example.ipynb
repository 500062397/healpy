{
 "cells": [
  {
   "cell_type": "code",
   "execution_count": null,
   "id": "accab10f-f89e-48bd-8cf2-515974b1c6d8",
   "metadata": {},
   "outputs": [],
   "source": [
    "import healpy as hp\n",
    "import numpy as np"
   ]
  },
  {
   "cell_type": "code",
   "execution_count": null,
   "id": "da178e4f-c00f-4294-9c6e-5aad4f402136",
   "metadata": {},
   "outputs": [],
   "source": [
    "nside = 128\n",
    "npix = hp.nside2npix(nside)"
   ]
  },
  {
   "cell_type": "code",
   "execution_count": null,
   "id": "290641fc-c237-4061-a3ae-56970adf9222",
   "metadata": {},
   "outputs": [],
   "source": [
    "np.random.seed(12)\n",
    "signal = np.random.normal(size=npix)"
   ]
  },
  {
   "cell_type": "code",
   "execution_count": null,
   "id": "d255d249-9f70-436b-9b06-682c0f376238",
   "metadata": {},
   "outputs": [],
   "source": [
    "hp.mollview(signal, title=\"Signal\")"
   ]
  },
  {
   "cell_type": "code",
   "execution_count": null,
   "id": "2807c4da-7e9b-47f7-93e8-e340a553cf16",
   "metadata": {},
   "outputs": [],
   "source": [
    "gal_cut = np.radians(10)\n",
    "mask = np.zeros(npix, dtype=np.float32)\n",
    "mask[hp.query_strip(nside, np.pi/2-gal_cut, np.pi/2+gal_cut)] = 1\n",
    "mask[hp.query_disc(nside, hp.ang2vec(np.pi/2, 0), np.radians(20))] = 1"
   ]
  },
  {
   "cell_type": "code",
   "execution_count": null,
   "id": "fc85d2ce-3e76-4727-9a6a-c53af482ea29",
   "metadata": {},
   "outputs": [],
   "source": [
    "hp.mollview(mask, title=\"Binary mask\")"
   ]
  },
  {
   "cell_type": "code",
   "execution_count": null,
   "id": "836e516b-886d-4f55-973d-61087a94c343",
   "metadata": {},
   "outputs": [],
   "source": [
    "apodized_mask = np.clip(hp.smoothing(mask, fwhm=np.radians(10)), 0, None)"
   ]
  },
  {
   "cell_type": "code",
   "execution_count": null,
   "id": "ca635292-dda3-4284-9c4d-26451a5e5ca0",
   "metadata": {},
   "outputs": [],
   "source": [
    "hp.mollview(apodized_mask)"
   ]
  },
  {
   "cell_type": "code",
   "execution_count": null,
   "id": "0f8a9c07-a7e6-4c5a-a0f2-5b78f9bece07",
   "metadata": {},
   "outputs": [],
   "source": [
    "hp.mollview(signal, alpha=(1-mask), title=\"Signal with binary mask\")"
   ]
  },
  {
   "cell_type": "code",
   "execution_count": null,
   "id": "19b73958-33eb-420f-8740-ba98dddd5069",
   "metadata": {},
   "outputs": [],
   "source": [
    "hp.mollview(signal, alpha=(1-apodized_mask), title=\"Signal with apodized mask\")"
   ]
  },
  {
   "cell_type": "code",
   "execution_count": null,
   "id": "a8fece3d-75c6-4059-9001-7f35ea78f439",
   "metadata": {},
   "outputs": [],
   "source": []
  }
 ],
 "metadata": {
  "language_info": {
   "codemirror_mode": {
    "name": "ipython",
    "version": 3
   },
   "file_extension": ".py",
   "mimetype": "text/x-python",
   "name": "python",
   "nbconvert_exporter": "python",
   "pygments_lexer": "ipython3",
   "version": "3.8.0"
  }
 },
 "nbformat": 4,
 "nbformat_minor": 5
}
